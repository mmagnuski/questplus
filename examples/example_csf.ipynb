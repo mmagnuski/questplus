{
 "cells": [
  {
   "cell_type": "code",
   "execution_count": 1,
   "metadata": {},
   "outputs": [],
   "source": [
    "import numpy as np\n",
    "import matplotlib.pyplot as plt\n",
    "\n",
    "import psychometric\n",
    "from quest_plus import reformat_params, QuestPlus\n",
    "\n",
    "%matplotlib inline"
   ]
  },
  {
   "cell_type": "code",
   "execution_count": 30,
   "metadata": {
    "collapsed": true
   },
   "outputs": [],
   "source": [
    "def plot_csf(stim_space, params):\n",
    "\tprobs = psychometric.csf_watson_and_ahumada(stim_space, true_params)\n",
    "\tprobs = probs.reshape(len(frequencies), len(contrasts))\n",
    "\textents = [\n",
    "\t\tmin(frequencies), max(frequencies),\n",
    "\t\tmin(contrasts), max(contrasts),\n",
    "\t]\n",
    "\n",
    "\tplt.imshow(probs.T, origin='lower', extent=extents, aspect='auto')\n",
    "\tplt.ylabel('Contrast (dB)')\n",
    "\tplt.xlabel('Frequency')\n",
    "\n",
    "\n",
    "def simulate_from_csf(stim, params):\n",
    "    stim = np.atleast_2d(stim)\n",
    "    prob = psychometric.csf_watson_and_ahumada(stim, params)[0]\n",
    "    rnd = np.random.rand()\n",
    "    return int(rnd < prob)\n",
    "\n",
    "\n",
    "def plot_posterior(posterior):\n",
    "    fig, ax = plt.subplots(ncols=5)\n",
    "    idxs = np.arange(0, 10, 2)\n",
    "    for idx, slc in enumerate(idxs):\n",
    "        ax[idx].imshow(posterior[:, :, slc])\n",
    "        ax[idx].set_xticks([])\n",
    "        ax[idx].set_yticks([])\n",
    "    return fig"
   ]
  },
  {
   "cell_type": "code",
   "execution_count": 7,
   "metadata": {
    "collapsed": true
   },
   "outputs": [],
   "source": [
    "frequencies = np.arange(0, 40, 2)\n",
    "contrasts = np.arange(-50, 0, 3)\n",
    "stim_space = reformat_params([frequencies, contrasts])"
   ]
  },
  {
   "cell_type": "code",
   "execution_count": 39,
   "metadata": {},
   "outputs": [
    {
     "data": {
      "image/png": "[encoded data removed]",
      "text/plain": [
       "<matplotlib.figure.Figure at 0x17d6294e780>"
      ]
     },
     "metadata": {},
     "output_type": "display_data"
    }
   ],
   "source": [
    "true_params = [-25, -40, 2]\n",
    "plot_csf(stim_space, true_params)"
   ]
  },
  {
   "cell_type": "code",
   "execution_count": 40,
   "metadata": {},
   "outputs": [],
   "source": [
    "t = np.arange(-40, 0, 4)\n",
    "c0 = np.arange(-50, 0, 5)\n",
    "cf = np.arange(1, 40, 4)\n",
    "\n",
    "qp = QuestPlus([frequencies, contrasts], [t, c0, cf],\n",
    "               function=psychometric.csf_watson_and_ahumada)"
   ]
  },
  {
   "cell_type": "code",
   "execution_count": 41,
   "metadata": {},
   "outputs": [
    {
     "name": "stdout",
     "output_type": "stream",
     "text": [
      "[ 2 -2] 1\n"
     ]
    }
   ],
   "source": [
    "this_stim = qp.next_contrast()\n",
    "resp = simulate_from_csf(this_stim, true_params)\n",
    "print(this_stim, resp)"
   ]
  },
  {
   "cell_type": "code",
   "execution_count": 42,
   "metadata": {},
   "outputs": [],
   "source": [
    "qp.update(this_stim, resp)"
   ]
  },
  {
   "cell_type": "code",
   "execution_count": 43,
   "metadata": {},
   "outputs": [
    {
     "data": {
      "text/plain": [
       "(10, 10, 10)"
      ]
     },
     "execution_count": 43,
     "metadata": {},
     "output_type": "execute_result"
    }
   ],
   "source": [
    "posterior = qp.get_posterior()\n",
    "posterior.shape"
   ]
  },
  {
   "cell_type": "code",
   "execution_count": 44,
   "metadata": {},
   "outputs": [
    {
     "data": {
      "image/png": "[encoded data removed]",
      "text/plain": [
       "<matplotlib.figure.Figure at 0x17d62906550>"
      ]
     },
     "metadata": {},
     "output_type": "display_data"
    }
   ],
   "source": [
    "plot_posterior(posterior);"
   ]
  },
  {
   "cell_type": "code",
   "execution_count": 45,
   "metadata": {
    "collapsed": true
   },
   "outputs": [],
   "source": [
    "for _ in range(15):\n",
    "    this_stim = qp.next_contrast()\n",
    "    resp = simulate_from_csf(this_stim, true_params)\n",
    "    qp.update(this_stim, resp)"
   ]
  },
  {
   "cell_type": "code",
   "execution_count": 46,
   "metadata": {},
   "outputs": [
    {
     "data": {
      "image/png": "[encoded data removed]",
      "text/plain": [
       "<matplotlib.figure.Figure at 0x17d640a90b8>"
      ]
     },
     "execution_count": 46,
     "metadata": {},
     "output_type": "execute_result"
    },
    {
     "data": {
      "image/png": "[encoded data removed]",
      "text/plain": [
       "<matplotlib.figure.Figure at 0x17d640a90b8>"
      ]
     },
     "metadata": {},
     "output_type": "display_data"
    }
   ],
   "source": [
    "posterior = qp.get_posterior()\n",
    "plot_posterior(posterior)"
   ]
  },
  {
   "cell_type": "code",
   "execution_count": 47,
   "metadata": {},
   "outputs": [
    {
     "data": {
      "text/plain": [
       "array([ 2, -2])"
      ]
     },
     "execution_count": 47,
     "metadata": {},
     "output_type": "execute_result"
    }
   ],
   "source": [
    "this_stim"
   ]
  },
  {
   "cell_type": "code",
   "execution_count": 48,
   "metadata": {},
   "outputs": [
    {
     "data": {
      "text/plain": [
       "[<matplotlib.lines.Line2D at 0x17d643cfa58>]"
      ]
     },
     "execution_count": 48,
     "metadata": {},
     "output_type": "execute_result"
    },
    {
     "data": {
      "image/png": "[encoded data removed]",
      "text/plain": [
       "<matplotlib.figure.Figure at 0x17d62915e48>"
      ]
     },
     "metadata": {},
     "output_type": "display_data"
    }
   ],
   "source": [
    "plt.plot(qp.entropy)"
   ]
  },
  {
   "cell_type": "code",
   "execution_count": 49,
   "metadata": {},
   "outputs": [
    {
     "name": "stdout",
     "output_type": "stream",
     "text": [
      "[-40 -50   1]\n"
     ]
    }
   ],
   "source": [
    "found_params = qp.get_fit_params()\n",
    "print(found_params)"
   ]
  },
  {
   "cell_type": "code",
   "execution_count": null,
   "metadata": {
    "collapsed": true
   },
   "outputs": [],
   "source": []
  }
 ],
 "metadata": {
  "kernelspec": {
   "display_name": "Python [Root]",
   "language": "python",
   "name": "Python [Root]"
  },
  "language_info": {
   "codemirror_mode": {
    "name": "ipython",
    "version": 3
   },
   "file_extension": ".py",
   "mimetype": "text/x-python",
   "name": "python",
   "nbconvert_exporter": "python",
   "pygments_lexer": "ipython3",
   "version": "3.5.1"
  }
 },
 "nbformat": 4,
 "nbformat_minor": 2
}
